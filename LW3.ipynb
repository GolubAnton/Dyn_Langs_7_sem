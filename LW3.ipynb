{
 "cells": [
  {
   "cell_type": "markdown",
   "id": "21f7fc4a-e17c-41c2-9a5f-e76161912acf",
   "metadata": {
    "id": "21f7fc4a-e17c-41c2-9a5f-e76161912acf"
   },
   "source": [
    "# Лабораторная работа №3\n",
    "## Задание:\n",
    "1 . Провести классификацию найденного датасета, методами линейной и логистической регрессий . В формате Markdown написать пояснения. Объяснить почему были выбраны именно такие гиперпараметры, была ли перекрестная проверка, и т.д."
   ]
  },
  {
   "cell_type": "markdown",
   "id": "2da4fa6b-3243-43e9-bf97-3c29e66b5c82",
   "metadata": {
    "id": "2da4fa6b-3243-43e9-bf97-3c29e66b5c82"
   },
   "source": [
    "## Решение:\n",
    "#### Подключение библиотек\n"
   ]
  },
  {
   "cell_type": "code",
   "execution_count": 1,
   "id": "e1788320-a3da-4eaf-a294-ff9dae1bb3c5",
   "metadata": {
    "id": "e1788320-a3da-4eaf-a294-ff9dae1bb3c5"
   },
   "outputs": [],
   "source": [
    "import pandas as pd\n",
    "import numpy as np\n",
    "from sklearn.preprocessing import LabelEncoder\n",
    "\n",
    "from sklearn.model_selection import train_test_split\n",
    "from sklearn.neighbors import KNeighborsClassifier\n",
    "from sklearn.metrics import accuracy_score\n",
    "from sklearn.model_selection import GridSearchCV\n",
    "from sklearn.neighbors import KNeighborsClassifier\n",
    "from sklearn.metrics import accuracy_score\n",
    "from sklearn.metrics import classification_report\n",
    "from sklearn.model_selection import train_test_split, GridSearchCV\n",
    "from sklearn.linear_model import LinearRegression, LogisticRegression\n",
    "from sklearn.metrics import classification_report\n",
    "from sklearn.metrics import mean_absolute_error, mean_squared_error, r2_score\n",
    "from sklearn.preprocessing import StandardScaler\n",
    "from sklearn.metrics import roc_curve, auc\n",
    "from imblearn.under_sampling import RandomUnderSampler"
   ]
  },
  {
   "cell_type": "markdown",
   "id": "aa1ada57-20cb-454e-98c7-c8c1db25d21a",
   "metadata": {
    "id": "aa1ada57-20cb-454e-98c7-c8c1db25d21a"
   },
   "source": [
    "### Загрузка данных, вывод датасета\n"
   ]
  },
  {
   "cell_type": "code",
   "execution_count": 2,
   "id": "5fe0832d-76ad-4e37-b20d-d070c5d8aa07",
   "metadata": {
    "colab": {
     "base_uri": "https://localhost:8080/"
    },
    "id": "5fe0832d-76ad-4e37-b20d-d070c5d8aa07",
    "outputId": "9a3e3234-c347-4f3d-edc3-90362e4df1cb"
   },
   "outputs": [
    {
     "name": "stdout",
     "output_type": "stream",
     "text": [
      "<class 'pandas.core.frame.DataFrame'>\n",
      "RangeIndex: 10321 entries, 0 to 10320\n",
      "Data columns (total 27 columns):\n",
      " #   Column         Non-Null Count  Dtype  \n",
      "---  ------         --------------  -----  \n",
      " 0   PID            10321 non-null  int64  \n",
      " 1   CM_ID          10321 non-null  float64\n",
      " 2   GIS_ID         10321 non-null  int64  \n",
      " 3   ST_NUM         10321 non-null  float64\n",
      " 4   ZIP_CODE       10321 non-null  float64\n",
      " 5   BLDG_SEQ       10321 non-null  int64  \n",
      " 6   NUM_BLDGS      10321 non-null  int64  \n",
      " 7   LUC            10321 non-null  int64  \n",
      " 8   RES_FLOOR      10321 non-null  float64\n",
      " 9   GROSS_AREA     10321 non-null  float64\n",
      " 10  LIVING_AREA    10321 non-null  float64\n",
      " 11  LAND_VALUE     10321 non-null  int64  \n",
      " 12  BLDG_VALUE     10321 non-null  int64  \n",
      " 13  SFYI_VALUE     10321 non-null  int64  \n",
      " 14  TOTAL_VALUE    10321 non-null  int64  \n",
      " 15  YR_BUILT       10321 non-null  float64\n",
      " 16  YR_REMODEL     10321 non-null  float64\n",
      " 17  BED_RMS        10321 non-null  float64\n",
      " 18  FULL_BTH       10321 non-null  float64\n",
      " 19  HLF_BTH        10321 non-null  float64\n",
      " 20  KITCHENS       10321 non-null  float64\n",
      " 21  TT_RMS         10321 non-null  float64\n",
      " 22  FIREPLACES     10321 non-null  float64\n",
      " 23  NUM_PARKING    10321 non-null  float64\n",
      " 24  COND_ENC       10321 non-null  int32  \n",
      " 25  CITY_ENC       10321 non-null  int32  \n",
      " 26  BLDG_TYPE_ENC  10321 non-null  int32  \n",
      "dtypes: float64(15), int32(3), int64(9)\n",
      "memory usage: 2.0 MB\n"
     ]
    }
   ],
   "source": [
    "Dataset = pd.read_csv('property_assessment.csv')\n",
    "label_encoder = LabelEncoder()\n",
    "Dataset['COND_ENC'] = label_encoder.fit_transform(Dataset['OVERALL_COND'])\n",
    "Dataset['CITY_ENC'] = label_encoder.fit_transform(Dataset['CITY'])\n",
    "Dataset['BLDG_TYPE_ENC'] = label_encoder.fit_transform(Dataset['BLDG_TYPE'])\n",
    "Dataset[['TOTAL_VALUE', 'LAND_VALUE', 'BLDG_VALUE']] = Dataset[['TOTAL_VALUE', 'LAND_VALUE', 'BLDG_VALUE']].applymap(lambda x: x.replace(',', '') if isinstance(x, str) else x).apply(pd.to_numeric, errors='coerce')\n",
    "non_numeric_columns = Dataset.select_dtypes(exclude=['number']).columns.tolist()\n",
    "Dataset = Dataset.drop(columns=non_numeric_columns)\n",
    "Dataset.info()"
   ]
  },
  {
   "cell_type": "markdown",
   "id": "9c5769f6-c921-484b-9f75-f961b41b880b",
   "metadata": {
    "id": "9c5769f6-c921-484b-9f75-f961b41b880b"
   },
   "source": [
    "### Преобразование данных и разделение на признаки"
   ]
  },
  {
   "cell_type": "code",
   "execution_count": 3,
   "id": "7676c682-5c07-47e3-8294-b83d430a8f81",
   "metadata": {
    "id": "7676c682-5c07-47e3-8294-b83d430a8f81"
   },
   "outputs": [],
   "source": [
    "X = Dataset[['BLDG_TYPE_ENC', 'LIVING_AREA', 'TOTAL_VALUE', 'CITY_ENC']]\n",
    "y = Dataset['COND_ENC']"
   ]
  },
  {
   "cell_type": "markdown",
   "id": "b1e43117-fad3-4e2f-85c5-ad6392838da4",
   "metadata": {
    "id": "b1e43117-fad3-4e2f-85c5-ad6392838da4"
   },
   "source": [
    "### Поиск лучшего параметра"
   ]
  },
  {
   "cell_type": "code",
   "execution_count": 4,
   "id": "3a62831e-65ba-4634-80c8-1854978801b3",
   "metadata": {
    "colab": {
     "base_uri": "https://localhost:8080/"
    },
    "id": "3a62831e-65ba-4634-80c8-1854978801b3",
    "outputId": "0c823d69-da86-4437-83aa-79ae63556aeb"
   },
   "outputs": [
    {
     "name": "stdout",
     "output_type": "stream",
     "text": [
      "COND_ENC\n",
      "0    1\n",
      "1    1\n",
      "2    1\n",
      "3    1\n",
      "4    1\n",
      "5    1\n",
      "Name: count, dtype: int64\n",
      "[0 4 1 2 5 3]\n",
      "Лучшие параметры для линейной регрессии: {'fit_intercept': True}\n"
     ]
    }
   ],
   "source": [
    "X_train, X_test, y_train, y_test = train_test_split(Dataset.drop('COND_ENC', axis=1), Dataset['COND_ENC'], test_size=0.4, random_state=42)\n",
    "\n",
    "scaler = StandardScaler()\n",
    "X_train = scaler.fit_transform(X_train)\n",
    "X_test = scaler.transform(X_test)\n",
    "\n",
    "under_sampler = RandomUnderSampler(random_state=42)\n",
    "\n",
    "X_resampled, y_resampled = under_sampler.fit_resample(X_train, y_train)\n",
    "\n",
    "print(pd.Series(y_resampled).value_counts())\n",
    "print(y_test.unique())\n",
    "# Создание модели\n",
    "linear_model = LinearRegression()\n",
    "\n",
    "# Подготовка параметров для GridSearchCV\n",
    "linear_params = {'fit_intercept': [True, False]}\n",
    "\n",
    "# Инициализация GridSearchCV\n",
    "linear_grid = GridSearchCV(linear_model, linear_params, cv=5)\n",
    "\n",
    "# Обучение модели\n",
    "linear_grid.fit(X_resampled, y_resampled)\n",
    "\n",
    "# Вывод результатов\n",
    "print(\"Лучшие параметры для линейной регрессии:\", linear_grid.best_params_)"
   ]
  },
  {
   "cell_type": "markdown",
   "id": "de2763bf",
   "metadata": {
    "id": "de2763bf"
   },
   "source": [
    "### Оценка линейной регресии"
   ]
  },
  {
   "cell_type": "code",
   "execution_count": 5,
   "id": "b74fdf92-0cc1-4a81-90ee-6d2ab5ed5c48",
   "metadata": {
    "colab": {
     "base_uri": "https://localhost:8080/"
    },
    "id": "b74fdf92-0cc1-4a81-90ee-6d2ab5ed5c48",
    "outputId": "3583e444-0de1-48a2-f03a-35a3f922bd53"
   },
   "outputs": [
    {
     "name": "stdout",
     "output_type": "stream",
     "text": [
      "MAE:  2.158600967335057\n",
      "MSE:  6.978115917173955\n",
      "R^2:  -1.400355582596124\n",
      "              precision    recall  f1-score   support\n",
      "\n",
      "         -18       0.00      1.00      0.00         0\n",
      "         -13       0.00      1.00      0.00         0\n",
      "         -10       0.00      1.00      0.00         0\n",
      "          -9       0.00      1.00      0.00         0\n",
      "          -8       0.00      1.00      0.00         0\n",
      "          -7       0.00      1.00      0.00         0\n",
      "          -5       0.00      1.00      0.00         0\n",
      "          -4       0.00      1.00      0.00         0\n",
      "          -3       0.00      1.00      0.00         0\n",
      "          -2       0.00      1.00      0.00         0\n",
      "          -1       0.00      1.00      0.00         0\n",
      "           0       0.74      0.11      0.20      3050\n",
      "           1       0.03      0.35      0.05        62\n",
      "           2       0.02      0.27      0.03        60\n",
      "           3       0.00      1.00      0.00         1\n",
      "           4       0.27      0.11      0.15       915\n",
      "           5       0.03      0.07      0.04        41\n",
      "           6       0.00      1.00      0.00         0\n",
      "           7       0.00      1.00      0.00         0\n",
      "           8       0.00      1.00      0.00         0\n",
      "           9       0.00      1.00      0.00         0\n",
      "\n",
      "    accuracy                           0.12      4129\n",
      "   macro avg       0.05      0.81      0.02      4129\n",
      "weighted avg       0.60      0.12      0.18      4129\n",
      "\n"
     ]
    }
   ],
   "source": [
    "# Предсказание на тестовых данных с лучшими параметрами\n",
    "linear_predictions = linear_grid.predict(X_test)\n",
    "\n",
    "# Оценка качества модели регрессии\n",
    "mae = mean_absolute_error(y_test, linear_predictions)\n",
    "mse = mean_squared_error(y_test, linear_predictions)\n",
    "r2 = r2_score(y_test, linear_predictions)\n",
    "\n",
    "print(\"MAE: \", mae)\n",
    "print(\"MSE: \", mse)\n",
    "print(\"R^2: \", r2)\n",
    "\n",
    "# Округление предсказанных значений до целых чисел (поскольку это классы)\n",
    "rounded_predictions = [round(pred) for pred in linear_predictions]\n",
    "# Вывод отчета классификации\n",
    "print(classification_report(y_test, rounded_predictions, zero_division=1))"
   ]
  },
  {
   "cell_type": "markdown",
   "id": "2a0babee",
   "metadata": {
    "id": "2a0babee"
   },
   "source": [
    "### Класификация с использованием логической регресии\n"
   ]
  },
  {
   "cell_type": "code",
   "execution_count": 6,
   "id": "ba72427b",
   "metadata": {
    "colab": {
     "base_uri": "https://localhost:8080/"
    },
    "id": "ba72427b",
    "outputId": "22b9ad0a-e594-4f83-a802-885292de43e9"
   },
   "outputs": [
    {
     "name": "stdout",
     "output_type": "stream",
     "text": [
      "Лучшие параметры для логистической регрессии: {'C': 0.001, 'penalty': 'l2'}\n",
      "Отчет о классификации для логистической регрессии:\n",
      "               precision    recall  f1-score   support\n",
      "\n",
      "           0       0.74      1.00      0.85      3050\n",
      "           1       0.58      0.11      0.19        62\n",
      "           2       0.00      0.00      0.00        60\n",
      "           3       0.00      0.00      0.00         1\n",
      "           4       0.00      0.00      0.00       915\n",
      "           5       0.00      0.00      0.00        41\n",
      "\n",
      "    accuracy                           0.74      4129\n",
      "   macro avg       0.22      0.19      0.17      4129\n",
      "weighted avg       0.56      0.74      0.63      4129\n",
      "\n"
     ]
    }
   ],
   "source": [
    "X = Dataset[['BLDG_TYPE_ENC', 'LIVING_AREA', 'TOTAL_VALUE', 'CITY_ENC']]\n",
    "y = Dataset['COND_ENC']\n",
    "\n",
    "X_train, X_test, y_train, y_test = train_test_split(X, y, test_size=0.4, random_state=42)\n",
    "\n",
    "logistic_model = LogisticRegression(multi_class='auto', solver='liblinear', max_iter=15000)\n",
    "\n",
    "logistic_params = {'C': [0.001, 0.01, 0.1, 1, 10], 'penalty': ['l1', 'l2']}\n",
    "\n",
    "logistic_grid = GridSearchCV(logistic_model, logistic_params, cv=5)\n",
    "logistic_grid.fit(X_train, y_train)\n",
    "\n",
    "print(\"Лучшие параметры для логистической регрессии:\", logistic_grid.best_params_)\n",
    "\n",
    "best_logistic_model = LogisticRegression(\n",
    "    multi_class='auto',\n",
    "    solver='liblinear',\n",
    "    max_iter=15000,\n",
    "    C=logistic_grid.best_params_['C'],\n",
    "    penalty=logistic_grid.best_params_['penalty']\n",
    ")\n",
    "\n",
    "best_logistic_model.fit(X_train, y_train)\n",
    "\n",
    "logistic_predictions = best_logistic_model.predict(X_test)\n",
    "logistic_classification_report = classification_report(y_test, logistic_predictions)\n",
    "print(\"Отчет о классификации для логистической регрессии:\\n\", logistic_classification_report)\n",
    "\n",
    "logistic_probabilities = best_logistic_model.predict_proba(X_test)\n",
    "\n",
    "fpr = dict()\n",
    "tpr = dict()\n",
    "roc_auc = dict()\n",
    "for i in range(3):\n",
    "    fpr[i], tpr[i], _ = roc_curve(y_test == i, logistic_probabilities[:, i])\n",
    "    roc_auc[i] = auc(fpr[i], tpr[i])"
   ]
  },
  {
   "cell_type": "code",
   "execution_count": null,
   "id": "9fb01fed",
   "metadata": {
    "id": "9fb01fed"
   },
   "outputs": [],
   "source": []
  }
 ],
 "metadata": {
  "colab": {
   "provenance": []
  },
  "kernelspec": {
   "display_name": "Python 3 (ipykernel)",
   "language": "python",
   "name": "python3"
  },
  "language_info": {
   "codemirror_mode": {
    "name": "ipython",
    "version": 3
   },
   "file_extension": ".py",
   "mimetype": "text/x-python",
   "name": "python",
   "nbconvert_exporter": "python",
   "pygments_lexer": "ipython3",
   "version": "3.11.5"
  }
 },
 "nbformat": 4,
 "nbformat_minor": 5
}
