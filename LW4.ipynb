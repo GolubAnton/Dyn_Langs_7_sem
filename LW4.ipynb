{
 "cells": [
  {
   "cell_type": "markdown",
   "id": "aab26f62-6a84-410d-94e5-652cc7cc4017",
   "metadata": {
    "id": "aab26f62-6a84-410d-94e5-652cc7cc4017"
   },
   "source": [
    "# Лабораторная работа №4\n",
    "## Задание:\n",
    "1 . Провести классификацию найденного датасета, методами наивного Байеса  . В формате Markdown написать пояснения. Объяснить почему были выбраны именно такие гиперпараметры, была ли перекрестная проверка, и т.д."
   ]
  },
  {
   "cell_type": "markdown",
   "id": "46b2f1a3-3ad3-4c8b-8745-a5682f9fb8cd",
   "metadata": {
    "id": "46b2f1a3-3ad3-4c8b-8745-a5682f9fb8cd"
   },
   "source": [
    "## Решение:\n",
    "#### Подключение библиотек\n"
   ]
  },
  {
   "cell_type": "code",
   "execution_count": 1,
   "id": "fc5d0a36-6ac8-4c4f-bb7d-ec0b65a8db3e",
   "metadata": {
    "id": "fc5d0a36-6ac8-4c4f-bb7d-ec0b65a8db3e"
   },
   "outputs": [],
   "source": [
    "import pandas as pd\n",
    "import numpy as np\n",
    "from sklearn.preprocessing import LabelEncoder\n",
    "from sklearn.model_selection import train_test_split, GridSearchCV\n",
    "from sklearn.naive_bayes import GaussianNB, BernoulliNB, MultinomialNB\n",
    "from sklearn.metrics import accuracy_score, classification_report\n",
    "from imblearn.under_sampling import RandomUnderSampler"
   ]
  },
  {
   "cell_type": "markdown",
   "id": "4483eecd-728b-42c9-bfde-4e81da683ee5",
   "metadata": {
    "id": "4483eecd-728b-42c9-bfde-4e81da683ee5"
   },
   "source": [
    "#### Загрузка данных и вывод датасета\n"
   ]
  },
  {
   "cell_type": "code",
   "execution_count": 2,
   "id": "746b6eaa-a9fd-4968-9e13-6e72a9403754",
   "metadata": {
    "colab": {
     "base_uri": "https://localhost:8080/"
    },
    "id": "746b6eaa-a9fd-4968-9e13-6e72a9403754",
    "outputId": "1e599899-1244-402f-ef9e-f8d39b0e575a"
   },
   "outputs": [
    {
     "name": "stdout",
     "output_type": "stream",
     "text": [
      "         PID        CM_ID     GIS_ID  ST_NUM       ST_NAME         CITY  \\\n",
      "0  100018006  100018000.0  100018000   239.0  Lexington ST  EAST BOSTON   \n",
      "1  100018008  100018000.0  100018000   239.0  Lexington ST  EAST BOSTON   \n",
      "2  100019006  100019000.0  100019000   241.0  Lexington ST  EAST BOSTON   \n",
      "3  100024002  100024000.0  100024000   249.0  Lexington ST  EAST BOSTON   \n",
      "4  100041006  100041000.0  100041000   224.0  PRINCETON ST  EAST BOSTON   \n",
      "\n",
      "   ZIP_CODE  BLDG_SEQ  NUM_BLDGS  LUC  ... FULL_BTH HLF_BTH KITCHENS TT_RMS  \\\n",
      "0    2128.0         1          1  102  ...      2.0     0.0      1.0    5.0   \n",
      "1    2128.0         1          1  102  ...      2.0     0.0      1.0    4.0   \n",
      "2    2128.0         1          1  102  ...      2.0     0.0      1.0    4.0   \n",
      "3    2128.0         1          1  102  ...      1.0     0.0      1.0    5.0   \n",
      "4    2128.0         1          1  102  ...      2.0     0.0      1.0    5.0   \n",
      "\n",
      "     KITCHEN_TYPE           HEAT_TYPE         AC_TYPE FIREPLACES  NUM_PARKING  \\\n",
      "0  O - One Person  F - Forced Hot Air  C - Central AC        1.0          0.0   \n",
      "1  O - One Person  F - Forced Hot Air  C - Central AC        1.0          0.0   \n",
      "2  O - One Person  F - Forced Hot Air  C - Central AC        0.0          0.0   \n",
      "3  O - One Person  F - Forced Hot Air  C - Central AC        0.0          0.0   \n",
      "4  O - One Person  F - Forced Hot Air  C - Central AC        0.0          0.0   \n",
      "\n",
      "     PROP_VIEW  \n",
      "0  A - Average  \n",
      "1  A - Average  \n",
      "2  A - Average  \n",
      "3  A - Average  \n",
      "4  A - Average  \n",
      "\n",
      "[5 rows x 46 columns]\n"
     ]
    }
   ],
   "source": [
    "Dataset = pd.read_csv('property_assessment.csv')\n",
    "print(Dataset.head())"
   ]
  },
  {
   "cell_type": "markdown",
   "id": "a141c256-e55a-43a4-ad98-343e728d7fd1",
   "metadata": {
    "id": "a141c256-e55a-43a4-ad98-343e728d7fd1"
   },
   "source": [
    "### Создаем искомый столбец"
   ]
  },
  {
   "cell_type": "code",
   "execution_count": 3,
   "id": "86b1028e-7229-4d20-8ddd-07c86626459b",
   "metadata": {
    "colab": {
     "base_uri": "https://localhost:8080/"
    },
    "id": "86b1028e-7229-4d20-8ddd-07c86626459b",
    "outputId": "dad291df-0efd-47d2-818b-29618a49882a"
   },
   "outputs": [],
   "source": [
    "label_encoder = LabelEncoder()\n",
    "Dataset['COND_ENC'] = label_encoder.fit_transform(Dataset['OVERALL_COND'])"
   ]
  },
  {
   "cell_type": "markdown",
   "id": "a530f51c-02aa-48d7-a398-cfcfb15e1c25",
   "metadata": {
    "id": "a530f51c-02aa-48d7-a398-cfcfb15e1c25"
   },
   "source": [
    "### Нормализация данных"
   ]
  },
  {
   "cell_type": "code",
   "execution_count": 4,
   "id": "8ea23b0c-6cb0-4e47-b85d-bb2e942e4a62",
   "metadata": {
    "colab": {
     "base_uri": "https://localhost:8080/"
    },
    "id": "8ea23b0c-6cb0-4e47-b85d-bb2e942e4a62",
    "outputId": "61544f33-13bd-4a54-b4f9-d0460b5e2b55"
   },
   "outputs": [
    {
     "name": "stdout",
     "output_type": "stream",
     "text": [
      "<class 'pandas.core.frame.DataFrame'>\n",
      "RangeIndex: 10321 entries, 0 to 10320\n",
      "Data columns (total 25 columns):\n",
      " #   Column       Non-Null Count  Dtype  \n",
      "---  ------       --------------  -----  \n",
      " 0   PID          10321 non-null  int64  \n",
      " 1   CM_ID        10321 non-null  float64\n",
      " 2   GIS_ID       10321 non-null  int64  \n",
      " 3   ST_NUM       10321 non-null  float64\n",
      " 4   ZIP_CODE     10321 non-null  float64\n",
      " 5   BLDG_SEQ     10321 non-null  int64  \n",
      " 6   NUM_BLDGS    10321 non-null  int64  \n",
      " 7   LUC          10321 non-null  int64  \n",
      " 8   RES_FLOOR    10321 non-null  float64\n",
      " 9   GROSS_AREA   10321 non-null  float64\n",
      " 10  LIVING_AREA  10321 non-null  float64\n",
      " 11  LAND_VALUE   10321 non-null  int64  \n",
      " 12  BLDG_VALUE   10321 non-null  int64  \n",
      " 13  SFYI_VALUE   10321 non-null  int64  \n",
      " 14  TOTAL_VALUE  10321 non-null  int64  \n",
      " 15  YR_BUILT     10321 non-null  float64\n",
      " 16  YR_REMODEL   10321 non-null  float64\n",
      " 17  BED_RMS      10321 non-null  float64\n",
      " 18  FULL_BTH     10321 non-null  float64\n",
      " 19  HLF_BTH      10321 non-null  float64\n",
      " 20  KITCHENS     10321 non-null  float64\n",
      " 21  TT_RMS       10321 non-null  float64\n",
      " 22  FIREPLACES   10321 non-null  float64\n",
      " 23  NUM_PARKING  10321 non-null  float64\n",
      " 24  COND_ENC     10321 non-null  int32  \n",
      "dtypes: float64(15), int32(1), int64(9)\n",
      "memory usage: 1.9 MB\n"
     ]
    }
   ],
   "source": [
    "Dataset[['TOTAL_VALUE', 'LAND_VALUE', 'BLDG_VALUE']] = Dataset[['TOTAL_VALUE', 'LAND_VALUE', 'BLDG_VALUE']].applymap(lambda x: x.replace(',', '') if isinstance(x, str) else x).apply(pd.to_numeric, errors='coerce')\n",
    "numeric_columns = Dataset.select_dtypes(include='number').columns.tolist()\n",
    "non_numeric_columns = Dataset.select_dtypes(exclude=['number']).columns.tolist()\n",
    "Dataset = Dataset.drop(columns=non_numeric_columns)\n",
    "Dataset.info()"
   ]
  },
  {
   "cell_type": "markdown",
   "id": "346c7ebb-f0e7-4938-8552-bac79ac97f7d",
   "metadata": {
    "id": "346c7ebb-f0e7-4938-8552-bac79ac97f7d"
   },
   "source": [
    "### Поиск лучших метрик"
   ]
  },
  {
   "cell_type": "code",
   "execution_count": 5,
   "id": "9faafc49-a602-41d2-9eb1-453cd5bb3aa4",
   "metadata": {
    "colab": {
     "base_uri": "https://localhost:8080/"
    },
    "id": "9faafc49-a602-41d2-9eb1-453cd5bb3aa4",
    "outputId": "7389808f-2f27-4e38-d1f8-b6f01bbf56a8"
   },
   "outputs": [
    {
     "name": "stdout",
     "output_type": "stream",
     "text": [
      "Точность: 0.7108958837772397\n",
      "              precision    recall  f1-score   support\n",
      "\n",
      "           0       0.76      0.95      0.84      1526\n",
      "           1       0.20      0.19      0.19        27\n",
      "           2       0.00      0.00      0.00        28\n",
      "           3       1.00      1.00      1.00         1\n",
      "           4       0.21      0.02      0.04       462\n",
      "           5       0.10      0.38      0.16        21\n",
      "\n",
      "    accuracy                           0.71      2065\n",
      "   macro avg       0.38      0.42      0.37      2065\n",
      "weighted avg       0.61      0.71      0.63      2065\n",
      "\n",
      "Лучшие параметры: {'var_smoothing': 1e-09}\n"
     ]
    }
   ],
   "source": [
    "X = Dataset.drop('COND_ENC', axis=1)\n",
    "y = Dataset['COND_ENC']\n",
    "\n",
    "# Разделение данных на обучающий и тестовый наборы\n",
    "X_train, X_test, y_train, y_test = train_test_split(X, y, test_size=0.2, random_state=42)\n",
    "\n",
    "param_grid = {'var_smoothing': [1e-9, 1e-8, 1e-7]}\n",
    "\n",
    "# Инициализация модели наивного Байеса\n",
    "nb = GaussianNB()\n",
    "\n",
    "# Инициализация Grid Search\n",
    "grid_search = GridSearchCV(estimator=GaussianNB(), param_grid=param_grid, cv=5, n_jobs=-1, scoring='accuracy')\n",
    "\n",
    "# Поиск лучших параметров на обучающем наборе данных\n",
    "grid_search.fit(X_train, y_train)\n",
    "\n",
    "# Обучение модели на обучающем наборе данных\n",
    "nb.fit(X_train, y_train)\n",
    "\n",
    "# Предсказание на тестовых данных\n",
    "predictions = nb.predict(X_test)\n",
    "\n",
    "# Получение лучших параметров и лучшей модели\n",
    "best_params = grid_search.best_params_\n",
    "\n",
    "best_model = grid_search.best_estimator_\n",
    "\n",
    "# Оценка качества модели на тестовом наборе\n",
    "accuracy = accuracy_score(y_test, predictions)\n",
    "print(f'Точность: {accuracy}')\n",
    "\n",
    "# Вывод отчета о классификации\n",
    "print(classification_report(y_test, predictions))\n",
    "\n",
    "print(\"Лучшие параметры:\", best_params)\n"
   ]
  },
  {
   "cell_type": "code",
   "execution_count": null,
   "id": "3decc811",
   "metadata": {},
   "outputs": [],
   "source": []
  }
 ],
 "metadata": {
  "colab": {
   "provenance": []
  },
  "kernelspec": {
   "display_name": "Python 3 (ipykernel)",
   "language": "python",
   "name": "python3"
  },
  "language_info": {
   "codemirror_mode": {
    "name": "ipython",
    "version": 3
   },
   "file_extension": ".py",
   "mimetype": "text/x-python",
   "name": "python",
   "nbconvert_exporter": "python",
   "pygments_lexer": "ipython3",
   "version": "3.11.5"
  }
 },
 "nbformat": 4,
 "nbformat_minor": 5
}
