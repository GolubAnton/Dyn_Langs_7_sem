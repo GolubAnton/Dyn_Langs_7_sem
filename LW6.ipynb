{
 "cells": [
  {
   "cell_type": "markdown",
   "id": "a235b6ab-4500-42d9-bd83-30352174252f",
   "metadata": {
    "id": "a235b6ab-4500-42d9-bd83-30352174252f"
   },
   "source": [
    "# Лабораторная работа №6\n",
    "## Задание:\n",
    "1 . Провести классификацию найденного датасета, методами CatBoost . В формате Markdown написать пояснения. Объяснить почему были выбраны именно такие гиперпараметры, была ли перекрестная проверка, и т.д."
   ]
  },
  {
   "cell_type": "markdown",
   "id": "8796672a-1db3-48aa-a6ad-5d7ff72c7f5d",
   "metadata": {
    "id": "8796672a-1db3-48aa-a6ad-5d7ff72c7f5d"
   },
   "source": [
    "## Решение:\n",
    "### Подключение библиотек\n"
   ]
  },
  {
   "cell_type": "code",
   "execution_count": 1,
   "id": "341d81b7-569b-4cd9-84de-7afc92b81874",
   "metadata": {
    "colab": {
     "base_uri": "https://localhost:8080/"
    },
    "id": "341d81b7-569b-4cd9-84de-7afc92b81874",
    "outputId": "94ad9bd8-ded7-4988-901d-daf59a3817f7"
   },
   "outputs": [
    {
     "name": "stdout",
     "output_type": "stream",
     "text": [
      "Requirement already satisfied: catboost in d:\\programs\\anaconda3\\lib\\site-packages (1.2.3)\n",
      "Requirement already satisfied: graphviz in d:\\programs\\anaconda3\\lib\\site-packages (from catboost) (0.20.1)\n",
      "Requirement already satisfied: matplotlib in d:\\programs\\anaconda3\\lib\\site-packages (from catboost) (3.7.2)\n",
      "Requirement already satisfied: numpy>=1.16.0 in d:\\programs\\anaconda3\\lib\\site-packages (from catboost) (1.24.3)\n",
      "Requirement already satisfied: pandas>=0.24 in d:\\programs\\anaconda3\\lib\\site-packages (from catboost) (2.0.3)\n",
      "Requirement already satisfied: scipy in d:\\programs\\anaconda3\\lib\\site-packages (from catboost) (1.11.1)\n",
      "Requirement already satisfied: plotly in d:\\programs\\anaconda3\\lib\\site-packages (from catboost) (5.9.0)\n",
      "Requirement already satisfied: six in d:\\programs\\anaconda3\\lib\\site-packages (from catboost) (1.16.0)\n",
      "Requirement already satisfied: python-dateutil>=2.8.2 in d:\\programs\\anaconda3\\lib\\site-packages (from pandas>=0.24->catboost) (2.8.2)\n",
      "Requirement already satisfied: pytz>=2020.1 in d:\\programs\\anaconda3\\lib\\site-packages (from pandas>=0.24->catboost) (2023.3.post1)\n",
      "Requirement already satisfied: tzdata>=2022.1 in d:\\programs\\anaconda3\\lib\\site-packages (from pandas>=0.24->catboost) (2023.3)\n",
      "Requirement already satisfied: contourpy>=1.0.1 in d:\\programs\\anaconda3\\lib\\site-packages (from matplotlib->catboost) (1.0.5)\n",
      "Requirement already satisfied: cycler>=0.10 in d:\\programs\\anaconda3\\lib\\site-packages (from matplotlib->catboost) (0.11.0)\n",
      "Requirement already satisfied: fonttools>=4.22.0 in d:\\programs\\anaconda3\\lib\\site-packages (from matplotlib->catboost) (4.25.0)\n",
      "Requirement already satisfied: kiwisolver>=1.0.1 in d:\\programs\\anaconda3\\lib\\site-packages (from matplotlib->catboost) (1.4.4)\n",
      "Requirement already satisfied: packaging>=20.0 in d:\\programs\\anaconda3\\lib\\site-packages (from matplotlib->catboost) (23.1)\n",
      "Requirement already satisfied: pillow>=6.2.0 in d:\\programs\\anaconda3\\lib\\site-packages (from matplotlib->catboost) (10.0.1)\n",
      "Requirement already satisfied: pyparsing<3.1,>=2.3.1 in d:\\programs\\anaconda3\\lib\\site-packages (from matplotlib->catboost) (3.0.9)\n",
      "Requirement already satisfied: tenacity>=6.2.0 in d:\\programs\\anaconda3\\lib\\site-packages (from plotly->catboost) (8.2.2)\n"
     ]
    }
   ],
   "source": [
    "!pip install catboost\n",
    "\n",
    "import pandas as pd\n",
    "import numpy as np\n",
    "from sklearn.preprocessing import LabelEncoder\n",
    "from sklearn.model_selection import train_test_split, GridSearchCV\n",
    "from sklearn.neighbors import KNeighborsClassifier\n",
    "from sklearn.metrics import accuracy_score, classification_report\n",
    "from catboost import CatBoostClassifier\n",
    "import matplotlib.pyplot as plt"
   ]
  },
  {
   "cell_type": "markdown",
   "id": "1d93ec7d-274b-4fae-bcaa-a96011324a01",
   "metadata": {
    "id": "1d93ec7d-274b-4fae-bcaa-a96011324a01"
   },
   "source": [
    "### Загрузка данных и вывод датасета\n"
   ]
  },
  {
   "cell_type": "code",
   "execution_count": 2,
   "id": "3b2bc619-4e42-4173-a1d3-b05a1466b791",
   "metadata": {
    "colab": {
     "base_uri": "https://localhost:8080/"
    },
    "id": "3b2bc619-4e42-4173-a1d3-b05a1466b791",
    "outputId": "d61e9bca-7f83-41d1-d6a6-ac5ca786d43f"
   },
   "outputs": [
    {
     "name": "stdout",
     "output_type": "stream",
     "text": [
      "         PID        CM_ID     GIS_ID  ST_NUM       ST_NAME         CITY  \\\n",
      "0  100018006  100018000.0  100018000   239.0  Lexington ST  EAST BOSTON   \n",
      "1  100018008  100018000.0  100018000   239.0  Lexington ST  EAST BOSTON   \n",
      "2  100019006  100019000.0  100019000   241.0  Lexington ST  EAST BOSTON   \n",
      "3  100024002  100024000.0  100024000   249.0  Lexington ST  EAST BOSTON   \n",
      "4  100041006  100041000.0  100041000   224.0  PRINCETON ST  EAST BOSTON   \n",
      "\n",
      "   ZIP_CODE  BLDG_SEQ  NUM_BLDGS  LUC  ... FULL_BTH HLF_BTH KITCHENS TT_RMS  \\\n",
      "0    2128.0         1          1  102  ...      2.0     0.0      1.0    5.0   \n",
      "1    2128.0         1          1  102  ...      2.0     0.0      1.0    4.0   \n",
      "2    2128.0         1          1  102  ...      2.0     0.0      1.0    4.0   \n",
      "3    2128.0         1          1  102  ...      1.0     0.0      1.0    5.0   \n",
      "4    2128.0         1          1  102  ...      2.0     0.0      1.0    5.0   \n",
      "\n",
      "     KITCHEN_TYPE           HEAT_TYPE         AC_TYPE FIREPLACES  NUM_PARKING  \\\n",
      "0  O - One Person  F - Forced Hot Air  C - Central AC        1.0          0.0   \n",
      "1  O - One Person  F - Forced Hot Air  C - Central AC        1.0          0.0   \n",
      "2  O - One Person  F - Forced Hot Air  C - Central AC        0.0          0.0   \n",
      "3  O - One Person  F - Forced Hot Air  C - Central AC        0.0          0.0   \n",
      "4  O - One Person  F - Forced Hot Air  C - Central AC        0.0          0.0   \n",
      "\n",
      "     PROP_VIEW  \n",
      "0  A - Average  \n",
      "1  A - Average  \n",
      "2  A - Average  \n",
      "3  A - Average  \n",
      "4  A - Average  \n",
      "\n",
      "[5 rows x 46 columns]\n"
     ]
    }
   ],
   "source": [
    "Dataset = pd.read_csv('property_assessment.csv')\n",
    "print(Dataset.head())"
   ]
  },
  {
   "cell_type": "markdown",
   "id": "71da0e52-d21b-4e38-b4f3-dbd58aa675c6",
   "metadata": {
    "id": "71da0e52-d21b-4e38-b4f3-dbd58aa675c6"
   },
   "source": [
    "### Создание искомого столбца"
   ]
  },
  {
   "cell_type": "code",
   "execution_count": 3,
   "id": "eb0a6456-913b-42fc-9991-2fe43ecdeae1",
   "metadata": {
    "colab": {
     "base_uri": "https://localhost:8080/"
    },
    "id": "eb0a6456-913b-42fc-9991-2fe43ecdeae1",
    "outputId": "072afd24-e54f-480f-f993-b1ea94b2b3fa"
   },
   "outputs": [],
   "source": [
    "label_encoder = LabelEncoder()\n",
    "Dataset['COND_ENC'] = label_encoder.fit_transform(Dataset['OVERALL_COND'])"
   ]
  },
  {
   "cell_type": "markdown",
   "id": "3e5e7a43-a32f-4057-91d5-681b2b766c20",
   "metadata": {
    "id": "3e5e7a43-a32f-4057-91d5-681b2b766c20"
   },
   "source": [
    "### Нормализация данных"
   ]
  },
  {
   "cell_type": "code",
   "execution_count": 4,
   "id": "b9689131-3a6a-408f-b51c-0c12106c169e",
   "metadata": {
    "colab": {
     "base_uri": "https://localhost:8080/"
    },
    "id": "b9689131-3a6a-408f-b51c-0c12106c169e",
    "outputId": "69e7bd9c-f37d-4a87-9565-0608f3af5ae9"
   },
   "outputs": [
    {
     "name": "stdout",
     "output_type": "stream",
     "text": [
      "<class 'pandas.core.frame.DataFrame'>\n",
      "RangeIndex: 10321 entries, 0 to 10320\n",
      "Data columns (total 25 columns):\n",
      " #   Column       Non-Null Count  Dtype  \n",
      "---  ------       --------------  -----  \n",
      " 0   PID          10321 non-null  int64  \n",
      " 1   CM_ID        10321 non-null  float64\n",
      " 2   GIS_ID       10321 non-null  int64  \n",
      " 3   ST_NUM       10321 non-null  float64\n",
      " 4   ZIP_CODE     10321 non-null  float64\n",
      " 5   BLDG_SEQ     10321 non-null  int64  \n",
      " 6   NUM_BLDGS    10321 non-null  int64  \n",
      " 7   LUC          10321 non-null  int64  \n",
      " 8   RES_FLOOR    10321 non-null  float64\n",
      " 9   GROSS_AREA   10321 non-null  float64\n",
      " 10  LIVING_AREA  10321 non-null  float64\n",
      " 11  LAND_VALUE   10321 non-null  int64  \n",
      " 12  BLDG_VALUE   10321 non-null  int64  \n",
      " 13  SFYI_VALUE   10321 non-null  int64  \n",
      " 14  TOTAL_VALUE  10321 non-null  int64  \n",
      " 15  YR_BUILT     10321 non-null  float64\n",
      " 16  YR_REMODEL   10321 non-null  float64\n",
      " 17  BED_RMS      10321 non-null  float64\n",
      " 18  FULL_BTH     10321 non-null  float64\n",
      " 19  HLF_BTH      10321 non-null  float64\n",
      " 20  KITCHENS     10321 non-null  float64\n",
      " 21  TT_RMS       10321 non-null  float64\n",
      " 22  FIREPLACES   10321 non-null  float64\n",
      " 23  NUM_PARKING  10321 non-null  float64\n",
      " 24  COND_ENC     10321 non-null  int32  \n",
      "dtypes: float64(15), int32(1), int64(9)\n",
      "memory usage: 1.9 MB\n"
     ]
    }
   ],
   "source": [
    "Dataset[['TOTAL_VALUE', 'LAND_VALUE', 'BLDG_VALUE']] = Dataset[['TOTAL_VALUE', 'LAND_VALUE', 'BLDG_VALUE']].applymap(lambda x: x.replace(',', '') if isinstance(x, str) else x).apply(pd.to_numeric, errors='coerce')\n",
    "numeric_columns = Dataset.select_dtypes(include='number').columns.tolist()\n",
    "non_numeric_columns = Dataset.select_dtypes(exclude=['number']).columns.tolist()\n",
    "Dataset = Dataset.drop(columns=non_numeric_columns)\n",
    "Dataset.info()"
   ]
  },
  {
   "cell_type": "markdown",
   "id": "d14458c9-4f79-4d40-a760-7698d215aac7",
   "metadata": {
    "id": "d14458c9-4f79-4d40-a760-7698d215aac7"
   },
   "source": [
    "### Поиск лучшей метрики и количества соседей"
   ]
  },
  {
   "cell_type": "code",
   "execution_count": 5,
   "id": "f2695c1b-fc45-414c-8d12-d2973950b3c4",
   "metadata": {
    "colab": {
     "base_uri": "https://localhost:8080/"
    },
    "id": "f2695c1b-fc45-414c-8d12-d2973950b3c4",
    "outputId": "8d3ab82d-7934-421e-b963-9c8841ada87c"
   },
   "outputs": [
    {
     "name": "stdout",
     "output_type": "stream",
     "text": [
      "Лучшие параметры для CatBoost: {'depth': 8, 'iterations': 300, 'learning_rate': 0.1}\n"
     ]
    }
   ],
   "source": [
    "X = Dataset.drop(columns=['COND_ENC'])\n",
    "y = Dataset['COND_ENC']\n",
    "\n",
    "X_train, X_test, y_train, y_test = train_test_split(X, y, test_size=0.4, random_state=42)\n",
    "\n",
    "# Параметры для настройки CatBoost\n",
    "catboost_params = {\n",
    "    'iterations': [100, 200, 300],\n",
    "    'learning_rate': [0.01, 0.05, 0.1],\n",
    "    'depth': [4, 6, 8]\n",
    "}\n",
    "\n",
    "# Создание модели CatBoost\n",
    "catboost_model = CatBoostClassifier(verbose=False)\n",
    "\n",
    "# Подбор лучших параметров с помощью GridSearchCV\n",
    "catboost_grid_search = GridSearchCV(catboost_model, catboost_params, cv=5)\n",
    "catboost_grid_search.fit(X_train, y_train)\n",
    "\n",
    "# Лучшие параметры\n",
    "best_catboost_params = catboost_grid_search.best_params_\n",
    "print(f\"Лучшие параметры для CatBoost: {best_catboost_params}\")\n"
   ]
  },
  {
   "cell_type": "markdown",
   "id": "9e299958-c745-4e2e-b871-4d648e6e2510",
   "metadata": {
    "id": "9e299958-c745-4e2e-b871-4d648e6e2510"
   },
   "source": [
    "#### Обучение на лучших метриках и количестве соседей"
   ]
  },
  {
   "cell_type": "code",
   "execution_count": 6,
   "id": "e2aff059-42b7-48f1-9f1a-f0f2604dfa18",
   "metadata": {
    "colab": {
     "base_uri": "https://localhost:8080/"
    },
    "id": "e2aff059-42b7-48f1-9f1a-f0f2604dfa18",
    "outputId": "0b59c071-b228-4c3b-8c6b-be633995f266"
   },
   "outputs": [
    {
     "name": "stdout",
     "output_type": "stream",
     "text": [
      "Точность CatBoost на тестовых данных: 0.9108743037054977\n",
      "Classification Report для CatBoost:\n",
      "              precision    recall  f1-score   support\n",
      "\n",
      "           0       0.93      0.96      0.95      3050\n",
      "           1       0.88      0.69      0.77        62\n",
      "           2       0.88      0.75      0.81        60\n",
      "           3       1.00      1.00      1.00         1\n",
      "           4       0.83      0.79      0.81       915\n",
      "           5       0.93      0.63      0.75        41\n",
      "\n",
      "    accuracy                           0.91      4129\n",
      "   macro avg       0.91      0.80      0.85      4129\n",
      "weighted avg       0.91      0.91      0.91      4129\n",
      "\n"
     ]
    }
   ],
   "source": [
    "# Переобучение модели с лучшими параметрами на всем тренировочном наборе данных\n",
    "best_catboost_model = CatBoostClassifier(**best_catboost_params, verbose=False)\n",
    "best_catboost_model.fit(X_train, y_train)\n",
    "\n",
    "# Предсказание на тестовых данных\n",
    "y_pred_catboost = best_catboost_model.predict(X_test)\n",
    "\n",
    "# Оценка точности\n",
    "accuracy_catboost = accuracy_score(y_test, y_pred_catboost)\n",
    "print(f\"Точность CatBoost на тестовых данных: {accuracy_catboost}\")\n",
    "\n",
    "# Отчет о классификации для CatBoost\n",
    "print(\"Classification Report для CatBoost:\")\n",
    "print(classification_report(y_test, y_pred_catboost))"
   ]
  },
  {
   "cell_type": "code",
   "execution_count": null,
   "id": "c2712015",
   "metadata": {},
   "outputs": [],
   "source": []
  }
 ],
 "metadata": {
  "colab": {
   "provenance": []
  },
  "kernelspec": {
   "display_name": "Python 3 (ipykernel)",
   "language": "python",
   "name": "python3"
  },
  "language_info": {
   "codemirror_mode": {
    "name": "ipython",
    "version": 3
   },
   "file_extension": ".py",
   "mimetype": "text/x-python",
   "name": "python",
   "nbconvert_exporter": "python",
   "pygments_lexer": "ipython3",
   "version": "3.11.5"
  }
 },
 "nbformat": 4,
 "nbformat_minor": 5
}
