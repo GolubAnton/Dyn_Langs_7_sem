{
 "cells": [
  {
   "cell_type": "markdown",
   "id": "477be5a9",
   "metadata": {},
   "source": [
    "# Лабораторная работа 2\n",
    "## Задание:\n",
    "1. Провести классификацию найденного датасета, методом машины опорных векторов. В формате Markdown писать пояснения. Объяснить почему были выбраны именно такие гиперпараметры, была ли перекрестная проверка, и т.д."
   ]
  },
  {
   "cell_type": "markdown",
   "id": "b75055d1",
   "metadata": {},
   "source": [
    "### Подключение библиотек"
   ]
  },
  {
   "cell_type": "code",
   "execution_count": 1,
   "id": "90074ef4",
   "metadata": {},
   "outputs": [],
   "source": [
    "import pandas as pd\n",
    "from sklearn.model_selection import train_test_split, cross_val_score, StratifiedKFold, GridSearchCV\n",
    "from sklearn.preprocessing import StandardScaler, LabelEncoder\n",
    "from sklearn.metrics import accuracy_score, classification_report\n",
    "from sklearn.svm import SVC"
   ]
  },
  {
   "cell_type": "markdown",
   "id": "bcac48a6",
   "metadata": {},
   "source": [
    "### Загрузка данных и подготовка датасета"
   ]
  },
  {
   "cell_type": "code",
   "execution_count": 2,
   "id": "01949f08",
   "metadata": {},
   "outputs": [
    {
     "name": "stdout",
     "output_type": "stream",
     "text": [
      "              PID         CM_ID      GIS_ID  ST_NUM  ZIP_CODE  BLDG_SEQ  \\\n",
      "0       100018006  1.000180e+08   100018000   239.0    2128.0         1   \n",
      "1       100018008  1.000180e+08   100018000   239.0    2128.0         1   \n",
      "2       100019006  1.000190e+08   100019000   241.0    2128.0         1   \n",
      "3       100024002  1.000240e+08   100024000   249.0    2128.0         1   \n",
      "4       100041006  1.000410e+08   100041000   224.0    2128.0         1   \n",
      "...           ...           ...         ...     ...       ...       ...   \n",
      "10316  2205550698  2.205550e+09  2205550001   116.0    2135.0         1   \n",
      "10317  2205550706  2.205550e+09  2205550001   112.0    2135.0         1   \n",
      "10318  2205550714  2.205550e+09  2205550001   108.0    2135.0         1   \n",
      "10319  2205550726  2.205550e+09  2205550001   100.0    2135.0         1   \n",
      "10320  2205550730  2.205550e+09  2205550001   100.0    2135.0         1   \n",
      "\n",
      "       NUM_BLDGS  LUC  RES_FLOOR  GROSS_AREA  ...  BED_RMS  FULL_BTH  HLF_BTH  \\\n",
      "0              1  102        1.0      1390.0  ...      3.0       2.0      0.0   \n",
      "1              1  102        1.0      1374.0  ...      2.0       2.0      0.0   \n",
      "2              1  102        1.0      1237.0  ...      2.0       2.0      0.0   \n",
      "3              1  102        1.0       791.0  ...      2.0       1.0      0.0   \n",
      "4              1  102        1.0      1304.0  ...      3.0       2.0      0.0   \n",
      "...          ...  ...        ...         ...  ...      ...       ...      ...   \n",
      "10316          1  102        1.0       828.0  ...      2.0       1.0      0.0   \n",
      "10317          1  102        1.0       825.0  ...      2.0       1.0      0.0   \n",
      "10318          1  102        1.0      1063.0  ...      3.0       2.0      0.0   \n",
      "10319          1  102        1.0      1056.0  ...      3.0       2.0      0.0   \n",
      "10320          1  102        1.0      1056.0  ...      3.0       2.0      0.0   \n",
      "\n",
      "       KITCHENS  TT_RMS  FIREPLACES  NUM_PARKING  COND_ENC  CITY_ENC  \\\n",
      "0           1.0     5.0         1.0          0.0         0         6   \n",
      "1           1.0     4.0         1.0          0.0         0         6   \n",
      "2           1.0     4.0         0.0          0.0         4         6   \n",
      "3           1.0     5.0         0.0          0.0         0         6   \n",
      "4           1.0     5.0         0.0          0.0         4         6   \n",
      "...         ...     ...         ...          ...       ...       ...   \n",
      "10316       1.0     4.0         0.0          1.0         0         2   \n",
      "10317       1.0     4.0         0.0          1.0         0         2   \n",
      "10318       1.0     5.0         0.0          2.0         0         2   \n",
      "10319       1.0     5.0         0.0          2.0         0         2   \n",
      "10320       1.0     5.0         0.0          1.0         0         2   \n",
      "\n",
      "       BLDG_TYPE_ENC  \n",
      "0                  9  \n",
      "1                  9  \n",
      "2                  9  \n",
      "3                  9  \n",
      "4                  3  \n",
      "...              ...  \n",
      "10316              5  \n",
      "10317              5  \n",
      "10318              5  \n",
      "10319              5  \n",
      "10320              5  \n",
      "\n",
      "[10321 rows x 27 columns]\n"
     ]
    }
   ],
   "source": [
    "DataSet = pd.read_csv('property_assessment.csv')\n",
    "\n",
    "label_encoder = LabelEncoder()\n",
    "DataSet['COND_ENC'] = label_encoder.fit_transform(DataSet['OVERALL_COND'])\n",
    "DataSet['CITY_ENC'] = label_encoder.fit_transform(DataSet['CITY'])\n",
    "DataSet['BLDG_TYPE_ENC'] = label_encoder.fit_transform(DataSet['BLDG_TYPE'])\n",
    "DataSet[['TOTAL_VALUE', 'LAND_VALUE', 'BLDG_VALUE']] = DataSet[['TOTAL_VALUE', 'LAND_VALUE', 'BLDG_VALUE']].applymap(lambda x: x.replace(',', '') if isinstance(x, str) else x).apply(pd.to_numeric, errors='coerce')\n",
    "non_numeric_columns = DataSet.select_dtypes(exclude=['number']).columns.tolist()\n",
    "\n",
    "DataSet = DataSet.drop(columns=non_numeric_columns)\n",
    "DataSet.dropna(inplace=True)\n",
    "print(DataSet)"
   ]
  },
  {
   "cell_type": "markdown",
   "id": "eb4a1eca",
   "metadata": {},
   "source": [
    "### Нормализация данных"
   ]
  },
  {
   "cell_type": "code",
   "execution_count": 3,
   "id": "74b5c8f4",
   "metadata": {},
   "outputs": [],
   "source": [
    "X = DataSet[['BLDG_TYPE_ENC', 'LIVING_AREA', 'TOTAL_VALUE', 'CITY_ENC']]\n",
    "y = DataSet['COND_ENC']  \n",
    "X_train, X_test, y_train, y_test = train_test_split(X, y, test_size=0.4, random_state=42)\n",
    "\n",
    "scaler = StandardScaler()\n",
    "X_train = scaler.fit_transform(X_train)\n",
    "X_test = scaler.transform(X_test)"
   ]
  },
  {
   "cell_type": "markdown",
   "id": "972313c6",
   "metadata": {},
   "source": [
    "### Обучение и оценка качества на линейном ядре\n"
   ]
  },
  {
   "cell_type": "code",
   "execution_count": 4,
   "id": "0d85ec49",
   "metadata": {},
   "outputs": [
    {
     "name": "stdout",
     "output_type": "stream",
     "text": [
      "Лучшие параметры: Ядро = poly, C = 1, Степень = 3\n"
     ]
    }
   ],
   "source": [
    "param_grid = {'kernel': ['linear', 'rbf', 'sigmoid', 'poly'],\n",
    "              'C': [.01, 0.1, 1, 10],\n",
    "              'degree': [1, 2, 3, 4, 5]}  \n",
    "\n",
    "svm_grid = GridSearchCV(SVC(), param_grid, cv=3, scoring='accuracy', n_jobs=-1)\n",
    "\n",
    "svm_grid.fit(X_test, y_test)\n",
    "\n",
    "best_params = svm_grid.best_params_\n",
    "best_kernel = best_params['kernel']\n",
    "best_C = best_params['C']\n",
    "best_degree = best_params['degree']\n",
    "\n",
    "print(f\"Лучшие параметры: Ядро = {best_kernel}, C = {best_C}, Степень = {best_degree}\")"
   ]
  },
  {
   "cell_type": "markdown",
   "id": "8c957d24",
   "metadata": {},
   "source": [
    "### Повторное обучение на лучших параметрах"
   ]
  },
  {
   "cell_type": "code",
   "execution_count": 5,
   "id": "c7575556",
   "metadata": {},
   "outputs": [
    {
     "name": "stdout",
     "output_type": "stream",
     "text": [
      "Точность модели: 0.7398885928796318\n",
      "              precision    recall  f1-score   support\n",
      "\n",
      "           0       0.74      1.00      0.85      3050\n",
      "           1       0.75      0.05      0.09        62\n",
      "           2       1.00      0.05      0.10        60\n",
      "           3       1.00      0.00      0.00         1\n",
      "           4       1.00      0.00      0.00       915\n",
      "           5       1.00      0.00      0.00        41\n",
      "\n",
      "    accuracy                           0.74      4129\n",
      "   macro avg       0.91      0.18      0.17      4129\n",
      "weighted avg       0.80      0.74      0.63      4129\n",
      "\n",
      "Средняя точность перекрестной проверки: 0.7425710594315245\n"
     ]
    }
   ],
   "source": [
    "svm_model = SVC(kernel='poly', degree=3, C=1) \n",
    "\n",
    "# Обучение модели\n",
    "svm_model.fit(X_train, y_train)\n",
    "\n",
    "# Предсказание на тестовом наборе\n",
    "y_pred = svm_model.predict(X_test)\n",
    "\n",
    "# Оценка модели\n",
    "accuracy = accuracy_score(y_test, y_pred)\n",
    "report = classification_report(y_test, y_pred, zero_division=1)\n",
    "\n",
    "print(f'Точность модели: {accuracy}')\n",
    "print(report)\n",
    "\n",
    "# Кросс-валидация\n",
    "stratified_kfold = StratifiedKFold(n_splits=2, shuffle=True, random_state=42)\n",
    "cross_val_scores = cross_val_score(svm_model, X_train, y_train, cv=stratified_kfold)\n",
    "\n",
    "print(f'Средняя точность перекрестной проверки: {cross_val_scores.mean()}')"
   ]
  },
  {
   "cell_type": "code",
   "execution_count": null,
   "id": "f13802ab",
   "metadata": {},
   "outputs": [],
   "source": []
  }
 ],
 "metadata": {
  "kernelspec": {
   "display_name": "Python 3 (ipykernel)",
   "language": "python",
   "name": "python3"
  },
  "language_info": {
   "codemirror_mode": {
    "name": "ipython",
    "version": 3
   },
   "file_extension": ".py",
   "mimetype": "text/x-python",
   "name": "python",
   "nbconvert_exporter": "python",
   "pygments_lexer": "ipython3",
   "version": "3.11.5"
  }
 },
 "nbformat": 4,
 "nbformat_minor": 5
}
