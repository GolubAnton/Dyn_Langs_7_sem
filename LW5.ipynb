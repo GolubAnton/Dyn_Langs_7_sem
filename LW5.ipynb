{
 "cells": [
  {
   "cell_type": "markdown",
   "id": "528d55c1-e531-4a63-9525-697a4f468bcd",
   "metadata": {},
   "source": [
    "# Лабораторная работа №5\n",
    "\n",
    "## Задание:\n",
    "1 . Провести классификацию найденного датасета, методами решающего дерева и случайного леса . В формате Markdown написать пояснения. Объяснить почему были выбраны именно такие гиперпараметры, была ли перекрестная проверка, и т.д."
   ]
  },
  {
   "cell_type": "markdown",
   "id": "5f769e6b-29b9-41d8-afdb-8fb12302d8b1",
   "metadata": {},
   "source": [
    "## Решение:\n",
    "#### Подключение библиотек"
   ]
  },
  {
   "cell_type": "code",
   "execution_count": 1,
   "id": "314ef0f7-9ba3-4fe6-8509-24f36244334b",
   "metadata": {},
   "outputs": [],
   "source": [
    "import pandas as pd\n",
    "import numpy as np\n",
    "from sklearn.preprocessing import LabelEncoder\n",
    "from sklearn.model_selection import train_test_split, GridSearchCV\n",
    "from sklearn.naive_bayes import GaussianNB, BernoulliNB, MultinomialNB\n",
    "from sklearn.tree import DecisionTreeClassifier\n",
    "from sklearn.ensemble import RandomForestClassifier\n",
    "from sklearn.metrics import accuracy_score, classification_report\n",
    "import matplotlib.pyplot as plt"
   ]
  },
  {
   "cell_type": "markdown",
   "id": "79e7624c-e0a1-4000-b2bf-70c0a7369fb3",
   "metadata": {},
   "source": [
    "#### Загрузка данных и вывод датасета\n"
   ]
  },
  {
   "cell_type": "code",
   "execution_count": 2,
   "id": "3faba3d5-8bfc-4890-80a4-1dc1a94752f5",
   "metadata": {},
   "outputs": [
    {
     "name": "stdout",
     "output_type": "stream",
     "text": [
      "         PID        CM_ID     GIS_ID  ST_NUM       ST_NAME         CITY  \\\n",
      "0  100018006  100018000.0  100018000   239.0  Lexington ST  EAST BOSTON   \n",
      "1  100018008  100018000.0  100018000   239.0  Lexington ST  EAST BOSTON   \n",
      "2  100019006  100019000.0  100019000   241.0  Lexington ST  EAST BOSTON   \n",
      "3  100024002  100024000.0  100024000   249.0  Lexington ST  EAST BOSTON   \n",
      "4  100041006  100041000.0  100041000   224.0  PRINCETON ST  EAST BOSTON   \n",
      "\n",
      "   ZIP_CODE  BLDG_SEQ  NUM_BLDGS  LUC  ... FULL_BTH HLF_BTH KITCHENS TT_RMS  \\\n",
      "0    2128.0         1          1  102  ...      2.0     0.0      1.0    5.0   \n",
      "1    2128.0         1          1  102  ...      2.0     0.0      1.0    4.0   \n",
      "2    2128.0         1          1  102  ...      2.0     0.0      1.0    4.0   \n",
      "3    2128.0         1          1  102  ...      1.0     0.0      1.0    5.0   \n",
      "4    2128.0         1          1  102  ...      2.0     0.0      1.0    5.0   \n",
      "\n",
      "     KITCHEN_TYPE           HEAT_TYPE         AC_TYPE FIREPLACES  NUM_PARKING  \\\n",
      "0  O - One Person  F - Forced Hot Air  C - Central AC        1.0          0.0   \n",
      "1  O - One Person  F - Forced Hot Air  C - Central AC        1.0          0.0   \n",
      "2  O - One Person  F - Forced Hot Air  C - Central AC        0.0          0.0   \n",
      "3  O - One Person  F - Forced Hot Air  C - Central AC        0.0          0.0   \n",
      "4  O - One Person  F - Forced Hot Air  C - Central AC        0.0          0.0   \n",
      "\n",
      "     PROP_VIEW  \n",
      "0  A - Average  \n",
      "1  A - Average  \n",
      "2  A - Average  \n",
      "3  A - Average  \n",
      "4  A - Average  \n",
      "\n",
      "[5 rows x 46 columns]\n"
     ]
    }
   ],
   "source": [
    "Dataset = pd.read_csv('property_assessment.csv')\n",
    "print(Dataset.head())"
   ]
  },
  {
   "cell_type": "markdown",
   "id": "fd5acaea-7be1-4a21-9650-74323ffe4b4e",
   "metadata": {},
   "source": [
    "### Создание искомого столбца"
   ]
  },
  {
   "cell_type": "code",
   "execution_count": 3,
   "id": "031cb0bb-9f55-4a76-9c31-c1e5f6ad51bb",
   "metadata": {},
   "outputs": [],
   "source": [
    "label_encoder = LabelEncoder()\n",
    "Dataset['COND_ENC'] = label_encoder.fit_transform(Dataset['OVERALL_COND'])"
   ]
  },
  {
   "cell_type": "markdown",
   "id": "2e60756b-4fb6-4797-b669-ef649d909af4",
   "metadata": {},
   "source": [
    "### Нормализация данных"
   ]
  },
  {
   "cell_type": "code",
   "execution_count": 4,
   "id": "b1c75ed2-b1f2-4908-ba74-6f7a999c98a2",
   "metadata": {},
   "outputs": [
    {
     "name": "stdout",
     "output_type": "stream",
     "text": [
      "<class 'pandas.core.frame.DataFrame'>\n",
      "RangeIndex: 10321 entries, 0 to 10320\n",
      "Data columns (total 25 columns):\n",
      " #   Column       Non-Null Count  Dtype  \n",
      "---  ------       --------------  -----  \n",
      " 0   PID          10321 non-null  int64  \n",
      " 1   CM_ID        10321 non-null  float64\n",
      " 2   GIS_ID       10321 non-null  int64  \n",
      " 3   ST_NUM       10321 non-null  float64\n",
      " 4   ZIP_CODE     10321 non-null  float64\n",
      " 5   BLDG_SEQ     10321 non-null  int64  \n",
      " 6   NUM_BLDGS    10321 non-null  int64  \n",
      " 7   LUC          10321 non-null  int64  \n",
      " 8   RES_FLOOR    10321 non-null  float64\n",
      " 9   GROSS_AREA   10321 non-null  float64\n",
      " 10  LIVING_AREA  10321 non-null  float64\n",
      " 11  LAND_VALUE   10321 non-null  int64  \n",
      " 12  BLDG_VALUE   10321 non-null  int64  \n",
      " 13  SFYI_VALUE   10321 non-null  int64  \n",
      " 14  TOTAL_VALUE  10321 non-null  int64  \n",
      " 15  YR_BUILT     10321 non-null  float64\n",
      " 16  YR_REMODEL   10321 non-null  float64\n",
      " 17  BED_RMS      10321 non-null  float64\n",
      " 18  FULL_BTH     10321 non-null  float64\n",
      " 19  HLF_BTH      10321 non-null  float64\n",
      " 20  KITCHENS     10321 non-null  float64\n",
      " 21  TT_RMS       10321 non-null  float64\n",
      " 22  FIREPLACES   10321 non-null  float64\n",
      " 23  NUM_PARKING  10321 non-null  float64\n",
      " 24  COND_ENC     10321 non-null  int32  \n",
      "dtypes: float64(15), int32(1), int64(9)\n",
      "memory usage: 1.9 MB\n"
     ]
    }
   ],
   "source": [
    "Dataset[['TOTAL_VALUE', 'LAND_VALUE', 'BLDG_VALUE']] = Dataset[['TOTAL_VALUE', 'LAND_VALUE', 'BLDG_VALUE']].applymap(lambda x: x.replace(',', '') if isinstance(x, str) else x).apply(pd.to_numeric, errors='coerce')\n",
    "numeric_columns = Dataset.select_dtypes(include='number').columns.tolist()\n",
    "non_numeric_columns = Dataset.select_dtypes(exclude=['number']).columns.tolist()\n",
    "Dataset = Dataset.drop(columns=non_numeric_columns)\n",
    "Dataset.info()"
   ]
  },
  {
   "cell_type": "markdown",
   "id": "2ca0747d-dbc4-4271-85a4-ebd60d7608d6",
   "metadata": {},
   "source": [
    "### Поиск лучших метрик"
   ]
  },
  {
   "cell_type": "code",
   "execution_count": 5,
   "id": "b2bf1f85-a7d3-4464-86e9-901345adb33d",
   "metadata": {},
   "outputs": [
    {
     "name": "stdout",
     "output_type": "stream",
     "text": [
      "Decision Tree - Лучшее значение параметра: {'max_depth': 10, 'min_samples_leaf': 2, 'min_samples_split': 2}, Точность на тесте: 0.8806006296924195\n",
      "Random Forest - Лучшие значения параметров: {'max_depth': None, 'min_samples_leaf': 1, 'min_samples_split': 2, 'n_estimators': 150}, Точность на тесте: 0.9094211673528699\n"
     ]
    }
   ],
   "source": [
    "X = Dataset.drop(columns=['COND_ENC'])\n",
    "y = Dataset['COND_ENC']\n",
    "\n",
    "X_train, X_test, y_train, y_test = train_test_split(X, y, test_size=0.4, random_state=42)\n",
    "\n",
    "# Для решающего дерева\n",
    "decision_tree = DecisionTreeClassifier()\n",
    "dt_params = {\n",
    "    'max_depth': [None, 5, 10, 15, 20],\n",
    "    'min_samples_split': [2, 5, 10],\n",
    "    'min_samples_leaf': [1, 2, 4]\n",
    "}\n",
    "\n",
    "dt_grid_search = GridSearchCV(decision_tree, dt_params, cv=5)\n",
    "dt_grid_search.fit(X_train, y_train)\n",
    "\n",
    "y_pred_dt = dt_grid_search.predict(X_test)\n",
    "accuracy_dt = accuracy_score(y_test, y_pred_dt)\n",
    "\n",
    "print(f\"Decision Tree - Лучшее значение параметра: {dt_grid_search.best_params_}, Точность на тесте: {accuracy_dt}\")\n",
    "\n",
    "# Для случайного леса\n",
    "random_forest = RandomForestClassifier()\n",
    "rf_params = {\n",
    "    'n_estimators': [50, 100, 150, 200],\n",
    "    'max_depth': [None, 5, 10, 15],\n",
    "    'min_samples_split': [2, 5, 10],\n",
    "    'min_samples_leaf': [1, 2, 4]\n",
    "}\n",
    "\n",
    "rf_grid_search = GridSearchCV(random_forest, rf_params, cv=5)\n",
    "rf_grid_search.fit(X_train, y_train)\n",
    "\n",
    "y_pred_rf = rf_grid_search.predict(X_test)\n",
    "accuracy_rf = accuracy_score(y_test, y_pred_rf)\n",
    "\n",
    "print(f\"Random Forest - Лучшие значения параметров: {rf_grid_search.best_params_}, Точность на тесте: {accuracy_rf}\")\n"
   ]
  },
  {
   "cell_type": "markdown",
   "id": "2331c5ac-7fe7-44fe-9400-439efdde048e",
   "metadata": {},
   "source": [
    "### Обучение на лучших параметрах"
   ]
  },
  {
   "cell_type": "code",
   "execution_count": 6,
   "id": "f64d8c16-a98b-47d6-84f6-a69aa2e5b812",
   "metadata": {},
   "outputs": [
    {
     "name": "stdout",
     "output_type": "stream",
     "text": [
      "Decision Tree с лучшими параметрами - Точность на тесте: 0.8723661903608622\n",
      "Classification Report для Decision Tree:\n",
      "              precision    recall  f1-score   support\n",
      "\n",
      "           0       0.93      0.92      0.92      3050\n",
      "           1       0.72      0.82      0.77        62\n",
      "           2       0.80      0.82      0.81        60\n",
      "           3       1.00      1.00      1.00         1\n",
      "           4       0.73      0.74      0.74       915\n",
      "           5       0.40      0.54      0.46        41\n",
      "\n",
      "    accuracy                           0.87      4129\n",
      "   macro avg       0.76      0.81      0.78      4129\n",
      "weighted avg       0.88      0.87      0.87      4129\n",
      "\n",
      "Random Forest с лучшими параметрами - Точность на тесте: 0.9140227658028578\n",
      "Classification Report для Random Forest:\n",
      "              precision    recall  f1-score   support\n",
      "\n",
      "           0       0.92      0.97      0.95      3050\n",
      "           1       0.88      0.73      0.80        62\n",
      "           2       0.88      0.73      0.80        60\n",
      "           3       1.00      1.00      1.00         1\n",
      "           4       0.88      0.75      0.81       915\n",
      "           5       0.96      0.59      0.73        41\n",
      "\n",
      "    accuracy                           0.91      4129\n",
      "   macro avg       0.92      0.80      0.85      4129\n",
      "weighted avg       0.91      0.91      0.91      4129\n",
      "\n"
     ]
    }
   ],
   "source": [
    "from sklearn.metrics import classification_report\n",
    "\n",
    "# Для решающего дерева\n",
    "best_dt_params = {'max_depth': 20}\n",
    "best_decision_tree = DecisionTreeClassifier(**best_dt_params)\n",
    "best_decision_tree.fit(X_train, y_train)\n",
    "\n",
    "y_pred_best_dt = best_decision_tree.predict(X_test)\n",
    "accuracy_best_dt = accuracy_score(y_test, y_pred_best_dt)\n",
    "\n",
    "print(f\"Decision Tree с лучшими параметрами - Точность на тесте: {accuracy_best_dt}\")\n",
    "print(\"Classification Report для Decision Tree:\")\n",
    "print(classification_report(y_test, y_pred_best_dt))\n",
    "\n",
    "# Для случайного леса\n",
    "best_rf_params = {'max_depth': None, 'n_estimators': 50}\n",
    "best_random_forest = RandomForestClassifier(**best_rf_params)\n",
    "best_random_forest.fit(X_train, y_train)\n",
    "\n",
    "y_pred_best_rf = best_random_forest.predict(X_test)\n",
    "accuracy_best_rf = accuracy_score(y_test, y_pred_best_rf)\n",
    "\n",
    "print(f\"Random Forest с лучшими параметрами - Точность на тесте: {accuracy_best_rf}\")\n",
    "print(\"Classification Report для Random Forest:\")\n",
    "print(classification_report(y_test, y_pred_best_rf))\n"
   ]
  },
  {
   "cell_type": "code",
   "execution_count": null,
   "id": "2087f658",
   "metadata": {},
   "outputs": [],
   "source": []
  }
 ],
 "metadata": {
  "kernelspec": {
   "display_name": "Python 3 (ipykernel)",
   "language": "python",
   "name": "python3"
  },
  "language_info": {
   "codemirror_mode": {
    "name": "ipython",
    "version": 3
   },
   "file_extension": ".py",
   "mimetype": "text/x-python",
   "name": "python",
   "nbconvert_exporter": "python",
   "pygments_lexer": "ipython3",
   "version": "3.11.5"
  }
 },
 "nbformat": 4,
 "nbformat_minor": 5
}
