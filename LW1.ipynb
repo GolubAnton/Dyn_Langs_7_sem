{
 "cells": [
  {
   "cell_type": "markdown",
   "id": "9a61d2c1",
   "metadata": {
    "id": "9a61d2c1"
   },
   "source": [
    "# Лабораторная работа №1\n",
    "## Задание:\n",
    "1. Найти набор данных (датасет) для классификации удовлетворяющий следующим условиям: более 10 000 строк, более 20 столбцов, разные типы в столбцах, обязательно наличие целевого признака (таргета).\n",
    "2. Провести классификацию найденного датасета, методом к- ближайших соседей. В формате Markdown писать пояснения. Объяснить почему были выбраны именно такие гиперпараметры, была ли перекрестная проверка, и т.д."
   ]
  },
  {
   "cell_type": "markdown",
   "id": "ed1c15d3",
   "metadata": {
    "id": "ed1c15d3"
   },
   "source": [
    "### Подключение библиотек\n"
   ]
  },
  {
   "cell_type": "code",
   "execution_count": 1,
   "id": "4f5f22e4",
   "metadata": {
    "id": "4f5f22e4"
   },
   "outputs": [],
   "source": [
    "import pandas as pd\n",
    "import numpy as np\n",
    "from sklearn.preprocessing import LabelEncoder\n",
    "from sklearn.model_selection import train_test_split, GridSearchCV\n",
    "from sklearn.neighbors import KNeighborsClassifier\n",
    "from sklearn.metrics import accuracy_score, classification_report"
   ]
  },
  {
   "cell_type": "markdown",
   "id": "ed156100",
   "metadata": {
    "id": "ed156100"
   },
   "source": [
    "### Загрузка данных в датасет\n"
   ]
  },
  {
   "cell_type": "code",
   "execution_count": 2,
   "id": "ba6e6a39",
   "metadata": {
    "colab": {
     "base_uri": "https://localhost:8080/"
    },
    "id": "ba6e6a39",
    "outputId": "b04272d7-9b6b-4846-850e-3fc286068c2b"
   },
   "outputs": [
    {
     "name": "stdout",
     "output_type": "stream",
     "text": [
      "<class 'pandas.core.frame.DataFrame'>\n",
      "RangeIndex: 10321 entries, 0 to 10320\n",
      "Data columns (total 46 columns):\n",
      " #   Column               Non-Null Count  Dtype  \n",
      "---  ------               --------------  -----  \n",
      " 0   PID                  10321 non-null  int64  \n",
      " 1   CM_ID                10321 non-null  float64\n",
      " 2   GIS_ID               10321 non-null  int64  \n",
      " 3   ST_NUM               10321 non-null  float64\n",
      " 4   ST_NAME              10321 non-null  object \n",
      " 5   CITY                 10321 non-null  object \n",
      " 6   ZIP_CODE             10321 non-null  float64\n",
      " 7   BLDG_SEQ             10321 non-null  int64  \n",
      " 8   NUM_BLDGS            10321 non-null  int64  \n",
      " 9   LUC                  10321 non-null  int64  \n",
      " 10  LU                   10321 non-null  object \n",
      " 11  LU_DESC              10321 non-null  object \n",
      " 12  BLDG_TYPE            10321 non-null  object \n",
      " 13  OWN_OCC              10321 non-null  object \n",
      " 14  OWNER                10321 non-null  object \n",
      " 15  MAIL_STREET_ADDRESS  10321 non-null  object \n",
      " 16  MAIL_CITY            10321 non-null  object \n",
      " 17  MAIL_STATE           10321 non-null  object \n",
      " 18  RES_FLOOR            10321 non-null  float64\n",
      " 19  LAND_SF              10321 non-null  object \n",
      " 20  GROSS_AREA           10321 non-null  float64\n",
      " 21  LIVING_AREA          10321 non-null  float64\n",
      " 22  LAND_VALUE           10321 non-null  object \n",
      " 23  BLDG_VALUE           10321 non-null  object \n",
      " 24  SFYI_VALUE           10321 non-null  int64  \n",
      " 25  TOTAL_VALUE          10321 non-null  object \n",
      " 26  YR_BUILT             10321 non-null  float64\n",
      " 27  YR_REMODEL           10321 non-null  float64\n",
      " 28  ROOF_STRUCTURE       10321 non-null  object \n",
      " 29  ROOF_COVER           10321 non-null  object \n",
      " 30  INT_WALL             10321 non-null  object \n",
      " 31  EXT_FNISHED          10321 non-null  object \n",
      " 32  INT_COND             10321 non-null  object \n",
      " 33  EXT_COND             10321 non-null  object \n",
      " 34  OVERALL_COND         10321 non-null  object \n",
      " 35  BED_RMS              10321 non-null  float64\n",
      " 36  FULL_BTH             10321 non-null  float64\n",
      " 37  HLF_BTH              10321 non-null  float64\n",
      " 38  KITCHENS             10321 non-null  float64\n",
      " 39  TT_RMS               10321 non-null  float64\n",
      " 40  KITCHEN_TYPE         10321 non-null  object \n",
      " 41  HEAT_TYPE            10321 non-null  object \n",
      " 42  AC_TYPE              10321 non-null  object \n",
      " 43  FIREPLACES           10321 non-null  float64\n",
      " 44  NUM_PARKING          10321 non-null  float64\n",
      " 45  PROP_VIEW            10321 non-null  object \n",
      "dtypes: float64(15), int64(6), object(25)\n",
      "memory usage: 3.6+ MB\n"
     ]
    }
   ],
   "source": [
    "Dataset = pd.read_csv('property_assessment.csv')\n",
    "dataset_rows = Dataset.shape[0]\n",
    "Dataset.info()"
   ]
  },
  {
   "cell_type": "markdown",
   "id": "9777a82a",
   "metadata": {
    "id": "9777a82a"
   },
   "source": [
    "### Создаём искомый столбец"
   ]
  },
  {
   "cell_type": "code",
   "execution_count": 3,
   "id": "d420caf2",
   "metadata": {
    "colab": {
     "base_uri": "https://localhost:8080/"
    },
    "id": "d420caf2",
    "outputId": "51ba9331-0284-459d-b684-273ab9b86de5"
   },
   "outputs": [],
   "source": [
    "label_encoder = LabelEncoder()\n",
    "Dataset['COND_ENC'] = label_encoder.fit_transform(Dataset['OVERALL_COND'])"
   ]
  },
  {
   "cell_type": "markdown",
   "id": "7cf8a821",
   "metadata": {
    "id": "7cf8a821"
   },
   "source": [
    "### Нормализация данных"
   ]
  },
  {
   "cell_type": "code",
   "execution_count": 4,
   "id": "eeeaac80",
   "metadata": {
    "colab": {
     "base_uri": "https://localhost:8080/"
    },
    "id": "eeeaac80",
    "outputId": "89d07d67-2ac2-459b-b855-d0ba8141ec70",
    "scrolled": false
   },
   "outputs": [
    {
     "name": "stdout",
     "output_type": "stream",
     "text": [
      "<class 'pandas.core.frame.DataFrame'>\n",
      "RangeIndex: 10321 entries, 0 to 10320\n",
      "Data columns (total 25 columns):\n",
      " #   Column       Non-Null Count  Dtype  \n",
      "---  ------       --------------  -----  \n",
      " 0   PID          10321 non-null  int64  \n",
      " 1   CM_ID        10321 non-null  float64\n",
      " 2   GIS_ID       10321 non-null  int64  \n",
      " 3   ST_NUM       10321 non-null  float64\n",
      " 4   ZIP_CODE     10321 non-null  float64\n",
      " 5   BLDG_SEQ     10321 non-null  int64  \n",
      " 6   NUM_BLDGS    10321 non-null  int64  \n",
      " 7   LUC          10321 non-null  int64  \n",
      " 8   RES_FLOOR    10321 non-null  float64\n",
      " 9   GROSS_AREA   10321 non-null  float64\n",
      " 10  LIVING_AREA  10321 non-null  float64\n",
      " 11  LAND_VALUE   10321 non-null  int64  \n",
      " 12  BLDG_VALUE   10321 non-null  int64  \n",
      " 13  SFYI_VALUE   10321 non-null  int64  \n",
      " 14  TOTAL_VALUE  10321 non-null  int64  \n",
      " 15  YR_BUILT     10321 non-null  float64\n",
      " 16  YR_REMODEL   10321 non-null  float64\n",
      " 17  BED_RMS      10321 non-null  float64\n",
      " 18  FULL_BTH     10321 non-null  float64\n",
      " 19  HLF_BTH      10321 non-null  float64\n",
      " 20  KITCHENS     10321 non-null  float64\n",
      " 21  TT_RMS       10321 non-null  float64\n",
      " 22  FIREPLACES   10321 non-null  float64\n",
      " 23  NUM_PARKING  10321 non-null  float64\n",
      " 24  COND_ENC     10321 non-null  int32  \n",
      "dtypes: float64(15), int32(1), int64(9)\n",
      "memory usage: 1.9 MB\n"
     ]
    }
   ],
   "source": [
    "Dataset[['TOTAL_VALUE', 'LAND_VALUE', 'BLDG_VALUE']] = Dataset[['TOTAL_VALUE', 'LAND_VALUE', 'BLDG_VALUE']].applymap(lambda x: x.replace(',', '') if isinstance(x, str) else x).apply(pd.to_numeric, errors='coerce')\n",
    "numeric_columns = Dataset.select_dtypes(include='number').columns.tolist()\n",
    "non_numeric_columns = Dataset.select_dtypes(exclude=['number']).columns.tolist()\n",
    "Dataset = Dataset.drop(columns=non_numeric_columns)\n",
    "Dataset.info()"
   ]
  },
  {
   "cell_type": "markdown",
   "id": "17367104",
   "metadata": {
    "id": "17367104",
    "tags": []
   },
   "source": [
    "### Поиск лучшей метрики и количества соседей"
   ]
  },
  {
   "cell_type": "code",
   "execution_count": 5,
   "id": "c5279dc8",
   "metadata": {
    "colab": {
     "base_uri": "https://localhost:8080/"
    },
    "id": "c5279dc8",
    "outputId": "81087c50-508e-44cd-9ce3-f8063f0f84ca"
   },
   "outputs": [
    {
     "name": "stdout",
     "output_type": "stream",
     "text": [
      "Лучшие параметры: Количество соседей = 4, Лучшая метрика = manhattan\n"
     ]
    }
   ],
   "source": [
    "X = Dataset.drop(['COND_ENC'], axis=1)\n",
    "y = Dataset['COND_ENC']\n",
    "\n",
    "X_train, X_test, y_train, y_test = train_test_split(X, y, test_size=0.4, random_state=42)\n",
    "\n",
    "knn = KNeighborsClassifier()\n",
    "\n",
    "param_grid = {'n_neighbors': range(3, 20),\n",
    "              'metric': ['euclidean', 'manhattan', 'chebyshev', 'minkowski']}\n",
    "\n",
    "grid_search = GridSearchCV(knn, param_grid, cv=2, scoring='accuracy', n_jobs = 4)\n",
    "\n",
    "grid_search.fit(X_train, y_train)\n",
    "\n",
    "best_params = grid_search.best_params_\n",
    "best_metric = best_params['metric']\n",
    "best_k = best_params['n_neighbors']\n",
    "\n",
    "accuracies = grid_search.cv_results_['mean_test_score']\n",
    "accuracies = np.array(accuracies).reshape(len(param_grid['n_neighbors']), len(param_grid['metric']))\n",
    "\n",
    "print(f\"Лучшие параметры: Количество соседей = {best_k}, Лучшая метрика = {best_metric}\")\n"
   ]
  },
  {
   "cell_type": "markdown",
   "id": "44d60e48-656c-482e-bf14-aa558fc6ac1a",
   "metadata": {
    "id": "44d60e48-656c-482e-bf14-aa558fc6ac1a"
   },
   "source": [
    "#### Повторное обучение на лучших метриках и количестве соседей"
   ]
  },
  {
   "cell_type": "code",
   "execution_count": 6,
   "id": "09c46a22",
   "metadata": {
    "colab": {
     "base_uri": "https://localhost:8080/"
    },
    "id": "09c46a22",
    "outputId": "6ea1d4cd-c2e2-4c40-c7f0-78b7647ba5f0",
    "scrolled": false
   },
   "outputs": [
    {
     "name": "stdout",
     "output_type": "stream",
     "text": [
      "Точность модели с 4 соседями и метрикой manhattan : 0.7873577137321386\n",
      "              precision    recall  f1-score   support\n",
      "\n",
      "           0       0.82      0.94      0.88      3050\n",
      "           1       0.54      0.47      0.50        62\n",
      "           2       0.44      0.32      0.37        60\n",
      "           3       1.00      0.00      0.00         1\n",
      "           4       0.65      0.34      0.45       915\n",
      "           5       0.50      0.20      0.28        41\n",
      "\n",
      "    accuracy                           0.79      4129\n",
      "   macro avg       0.66      0.38      0.41      4129\n",
      "weighted avg       0.77      0.79      0.76      4129\n",
      "\n"
     ]
    }
   ],
   "source": [
    "knn = KNeighborsClassifier(n_neighbors=best_k, metric=best_metric)\n",
    "\n",
    "knn.fit(X_train, y_train)\n",
    "\n",
    "y_pred = knn.predict(X_test)\n",
    "\n",
    "accuracy = accuracy_score(y_test, y_pred)\n",
    "print(f'Точность модели с {best_k} соседями и метрикой {best_metric} : {accuracy}')\n",
    "report = classification_report(y_test, y_pred, zero_division = 1)\n",
    "print(report)"
   ]
  },
  {
   "cell_type": "code",
   "execution_count": null,
   "id": "f4e0a158",
   "metadata": {},
   "outputs": [],
   "source": []
  }
 ],
 "metadata": {
  "colab": {
   "provenance": []
  },
  "kernelspec": {
   "display_name": "Python 3 (ipykernel)",
   "language": "python",
   "name": "python3"
  },
  "language_info": {
   "codemirror_mode": {
    "name": "ipython",
    "version": 3
   },
   "file_extension": ".py",
   "mimetype": "text/x-python",
   "name": "python",
   "nbconvert_exporter": "python",
   "pygments_lexer": "ipython3",
   "version": "3.11.5"
  }
 },
 "nbformat": 4,
 "nbformat_minor": 5
}
