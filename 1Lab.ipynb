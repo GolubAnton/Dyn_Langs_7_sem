{
 "cells": [
  {
   "cell_type": "markdown",
   "id": "9a61d2c1",
   "metadata": {
    "id": "9a61d2c1"
   },
   "source": [
    "# Лабораторная работа №1\n",
    "## Задание:\n",
    "1. Найти набор данных (датасет) для классификации удовлетворяющий следующим условиям: более 10 000 строк, более 20 столбцов, разные типы в столбцах, обязательно наличие целевого признака (таргета).\n",
    "2. Провести классификацию найденного датасета, методом к- ближайших соседей. В формате Markdown писать пояснения. Объяснить почему были выбраны именно такие гиперпараметры, была ли перекрестная проверка, и т.д."
   ]
  },
  {
   "cell_type": "markdown",
   "id": "ed1c15d3",
   "metadata": {
    "id": "ed1c15d3"
   },
   "source": [
    "### Подключение библиотек\n"
   ]
  },
  {
   "cell_type": "code",
   "execution_count": 1,
   "id": "4f5f22e4",
   "metadata": {
    "id": "4f5f22e4"
   },
   "outputs": [],
   "source": [
    "import pandas as pd\n",
    "import numpy as np\n",
    "from sklearn.preprocessing import LabelEncoder\n",
    "from sklearn.model_selection import train_test_split, GridSearchCV\n",
    "from sklearn.neighbors import KNeighborsClassifier\n",
    "from sklearn.metrics import accuracy_score, classification_report"
   ]
  },
  {
   "cell_type": "markdown",
   "id": "ed156100",
   "metadata": {
    "id": "ed156100"
   },
   "source": [
    "### Загрузка данных в датасет\n"
   ]
  },
  {
   "cell_type": "code",
   "execution_count": 2,
   "id": "ba6e6a39",
   "metadata": {
    "colab": {
     "base_uri": "https://localhost:8080/"
    },
    "id": "ba6e6a39",
    "outputId": "b04272d7-9b6b-4846-850e-3fc286068c2b"
   },
   "outputs": [
    {
     "name": "stdout",
     "output_type": "stream",
     "text": [
      "   Unnamed: 0        PID        CM_ID     GIS_ID  ST_NUM       ST_NAME  \\\n",
      "0          18  100018002  100018000.0  100018000   239.0  Lexington ST   \n",
      "1          19  100018004  100018000.0  100018000   239.0  Lexington ST   \n",
      "2          20  100018006  100018000.0  100018000   239.0  Lexington ST   \n",
      "3          21  100018008  100018000.0  100018000   239.0  Lexington ST   \n",
      "4          23  100019002  100019000.0  100019000   241.0  Lexington ST   \n",
      "\n",
      "          CITY  ZIP_CODE  BLDG_SEQ  NUM_BLDGS  ...  FULL_BTH HLF_BTH KITCHENS  \\\n",
      "0  EAST BOSTON    2128.0         1          1  ...       2.0     0.0      1.0   \n",
      "1  EAST BOSTON    2128.0         1          1  ...       2.0     0.0      1.0   \n",
      "2  EAST BOSTON    2128.0         1          1  ...       2.0     0.0      1.0   \n",
      "3  EAST BOSTON    2128.0         1          1  ...       2.0     0.0      1.0   \n",
      "4  EAST BOSTON    2128.0         1          1  ...       3.0     0.0      1.0   \n",
      "\n",
      "  TT_RMS    KITCHEN_TYPE           HEAT_TYPE         AC_TYPE FIREPLACES  \\\n",
      "0    5.0  O - One Person  F - Forced Hot Air  C - Central AC        1.0   \n",
      "1    5.0  O - One Person  F - Forced Hot Air  C - Central AC        1.0   \n",
      "2    5.0  O - One Person  F - Forced Hot Air  C - Central AC        1.0   \n",
      "3    4.0  O - One Person  F - Forced Hot Air  C - Central AC        1.0   \n",
      "4    7.0  O - One Person  F - Forced Hot Air  C - Central AC        0.0   \n",
      "\n",
      "  NUM_PARKING    PROP_VIEW  \n",
      "0         0.0  A - Average  \n",
      "1         0.0  A - Average  \n",
      "2         0.0  A - Average  \n",
      "3         0.0  A - Average  \n",
      "4         0.0  A - Average  \n",
      "\n",
      "[5 rows x 48 columns]\n",
      "64508 - строк\n"
     ]
    }
   ],
   "source": [
    "Dataset = pd.read_csv('property_assessment_filtered.csv', low_memory=False)\n",
    "dataset_rows = Dataset.shape[0]\n",
    "print(Dataset.head())\n",
    "print(dataset_rows, '- строк')"
   ]
  },
  {
   "cell_type": "markdown",
   "id": "9777a82a",
   "metadata": {
    "id": "9777a82a"
   },
   "source": [
    "### Создаём искомый столбец"
   ]
  },
  {
   "cell_type": "code",
   "execution_count": 3,
   "id": "d420caf2",
   "metadata": {
    "colab": {
     "base_uri": "https://localhost:8080/"
    },
    "id": "d420caf2",
    "outputId": "51ba9331-0284-459d-b684-273ab9b86de5"
   },
   "outputs": [
    {
     "name": "stdout",
     "output_type": "stream",
     "text": [
      "  OVERALL_COND  СOND_ENC\n",
      "0  A - Average         0\n",
      "1  A - Average         0\n",
      "2  A - Average         0\n",
      "3  A - Average         0\n",
      "4     G - Good         4\n",
      "5     G - Good         4\n",
      "6     G - Good         4\n",
      "7  A - Average         0\n",
      "8  A - Average         0\n",
      "9  A - Average         0\n",
      "[0 4 3 1 5 6 2]\n",
      "['A - Average' 'G - Good' 'F - Fair' 'E - Excellent' 'P - Poor'\n",
      " 'VG - Very Good' 'EX - Excellent']\n"
     ]
    }
   ],
   "source": [
    "label_encoder = LabelEncoder()\n",
    "Dataset['СOND_ENC'] = label_encoder.fit_transform(Dataset['OVERALL_COND'])\n",
    "print(Dataset[['OVERALL_COND', 'СOND_ENC']].head(10))\n",
    "print(Dataset['СOND_ENC'].unique())\n",
    "print(Dataset['OVERALL_COND'].unique())"
   ]
  },
  {
   "cell_type": "markdown",
   "id": "7cf8a821",
   "metadata": {
    "id": "7cf8a821"
   },
   "source": [
    "### Нормализация данных"
   ]
  },
  {
   "cell_type": "code",
   "execution_count": 4,
   "id": "eeeaac80",
   "metadata": {
    "colab": {
     "base_uri": "https://localhost:8080/"
    },
    "id": "eeeaac80",
    "outputId": "89d07d67-2ac2-459b-b855-d0ba8141ec70",
    "scrolled": false
   },
   "outputs": [
    {
     "name": "stdout",
     "output_type": "stream",
     "text": [
      "<class 'pandas.core.frame.DataFrame'>\n",
      "RangeIndex: 64508 entries, 0 to 64507\n",
      "Data columns (total 26 columns):\n",
      " #   Column       Non-Null Count  Dtype  \n",
      "---  ------       --------------  -----  \n",
      " 0   Unnamed: 0   64508 non-null  int64  \n",
      " 1   PID          64508 non-null  int64  \n",
      " 2   CM_ID        64508 non-null  float64\n",
      " 3   GIS_ID       64508 non-null  int64  \n",
      " 4   ST_NUM       64508 non-null  float64\n",
      " 5   ZIP_CODE     64508 non-null  float64\n",
      " 6   BLDG_SEQ     64508 non-null  int64  \n",
      " 7   NUM_BLDGS    64508 non-null  int64  \n",
      " 8   LUC          64508 non-null  int64  \n",
      " 9   RES_FLOOR    64508 non-null  float64\n",
      " 10  GROSS_AREA   64508 non-null  float64\n",
      " 11  LIVING_AREA  64508 non-null  float64\n",
      " 12  LAND_VALUE   64508 non-null  int64  \n",
      " 13  BLDG_VALUE   64508 non-null  int64  \n",
      " 14  SFYI_VALUE   64508 non-null  int64  \n",
      " 15  TOTAL_VALUE  64508 non-null  int64  \n",
      " 16  YR_BUILT     64508 non-null  float64\n",
      " 17  YR_REMODEL   64508 non-null  float64\n",
      " 18  BED_RMS      64508 non-null  float64\n",
      " 19  FULL_BTH     64508 non-null  float64\n",
      " 20  HLF_BTH      64508 non-null  float64\n",
      " 21  KITCHENS     64508 non-null  float64\n",
      " 22  TT_RMS       64508 non-null  float64\n",
      " 23  FIREPLACES   64508 non-null  float64\n",
      " 24  NUM_PARKING  64508 non-null  float64\n",
      " 25  СOND_ENC     64508 non-null  int32  \n",
      "dtypes: float64(15), int32(1), int64(10)\n",
      "memory usage: 12.6 MB\n"
     ]
    }
   ],
   "source": [
    "Dataset[['TOTAL_VALUE', 'LAND_VALUE', 'BLDG_VALUE']] = Dataset[['TOTAL_VALUE', 'LAND_VALUE', 'BLDG_VALUE']].applymap(lambda x: x.replace(',', '') if isinstance(x, str) else x).apply(pd.to_numeric, errors='coerce')\n",
    "numeric_columns = Dataset.select_dtypes(include='number').columns.tolist()\n",
    "non_numeric_columns = Dataset.select_dtypes(exclude=['number']).columns.tolist()\n",
    "Dataset = Dataset.drop(columns=non_numeric_columns)\n",
    "columns_to_fill = ['GROSS_AREA', 'LIVING_AREA', 'TOTAL_VALUE', 'YR_REMODEL']\n",
    "for column in columns_to_fill:\n",
    "    mean_value = Dataset[column].mean()\n",
    "    Dataset[column].fillna(mean_value, inplace=True)\n",
    "Dataset.info()"
   ]
  },
  {
   "cell_type": "markdown",
   "id": "17367104",
   "metadata": {
    "id": "17367104",
    "tags": []
   },
   "source": [
    "### Поиск лучшей метрики и количества соседей"
   ]
  },
  {
   "cell_type": "code",
   "execution_count": null,
   "id": "c5279dc8",
   "metadata": {
    "colab": {
     "base_uri": "https://localhost:8080/"
    },
    "id": "c5279dc8",
    "outputId": "81087c50-508e-44cd-9ce3-f8063f0f84ca"
   },
   "outputs": [],
   "source": [
    "y = Dataset['СOND_ENC']\n",
    "X = Dataset[['GROSS_AREA', 'LIVING_AREA', 'TOTAL_VALUE', 'YR_REMODEL']]\n",
    "X_train, X_test, y_train, y_test = train_test_split(X, y, test_size=0.4, random_state=42)\n",
    "\n",
    "knn = KNeighborsClassifier()\n",
    "\n",
    "param_grid = {'n_neighbors': range(3, 40),\n",
    "              'metric': ['euclidean', 'manhattan', 'chebyshev', 'minkowski']}\n",
    "\n",
    "grid_search = GridSearchCV(knn, param_grid, cv=2, scoring='accuracy')\n",
    "\n",
    "grid_search.fit(X_train, y_train)\n",
    "\n",
    "best_params = grid_search.best_params_\n",
    "best_metric = best_params['metric']\n",
    "best_k = best_params['n_neighbors']\n",
    "\n",
    "accuracies = grid_search.cv_results_['mean_test_score']\n",
    "accuracies = np.array(accuracies).reshape(len(param_grid['n_neighbors']), len(param_grid['metric']))\n",
    "\n",
    "print(f\"Лучшие параметры: Количество соседей = {best_k}, Лучшая метрика = {best_metric}\")\n"
   ]
  },
  {
   "cell_type": "markdown",
   "id": "44d60e48-656c-482e-bf14-aa558fc6ac1a",
   "metadata": {
    "id": "44d60e48-656c-482e-bf14-aa558fc6ac1a"
   },
   "source": [
    "#### Повторное обучение на лучших метриках и количестве соседей"
   ]
  },
  {
   "cell_type": "code",
   "execution_count": 23,
   "id": "09c46a22",
   "metadata": {
    "colab": {
     "base_uri": "https://localhost:8080/"
    },
    "id": "09c46a22",
    "outputId": "6ea1d4cd-c2e2-4c40-c7f0-78b7647ba5f0",
    "scrolled": false
   },
   "outputs": [
    {
     "name": "stdout",
     "output_type": "stream",
     "text": [
      "Точность модели с 39 соседями и метрикой chebyshev : 0.7320570454193148\n",
      "              precision    recall  f1-score   support\n",
      "\n",
      "           0       0.73      1.00      0.85     18926\n",
      "           1       0.27      0.01      0.02       382\n",
      "           2       1.00      0.00      0.00       337\n",
      "           3       1.00      0.00      0.00         8\n",
      "           4       0.36      0.01      0.02      5913\n",
      "           5       1.00      0.00      0.00         2\n",
      "           6       0.00      0.00      1.00       236\n",
      "\n",
      "    accuracy                           0.73     25804\n",
      "   macro avg       0.62      0.14      0.27     25804\n",
      "weighted avg       0.64      0.73      0.63     25804\n",
      "\n"
     ]
    }
   ],
   "source": [
    "knn = KNeighborsClassifier(n_neighbors=best_k, metric=best_metric)\n",
    "\n",
    "knn.fit(X_train, y_train)\n",
    "\n",
    "y_pred = knn.predict(X_test)\n",
    "\n",
    "accuracy = accuracy_score(y_test, y_pred)\n",
    "print(f\"Точность модели с {best_k} соседями и метрикой {best_metric} : {accuracy}\")\n",
    "report = classification_report(y_test, y_pred, zero_division = 1)\n",
    "print(report)"
   ]
  },
  {
   "cell_type": "code",
   "execution_count": null,
   "id": "8a73b2c3",
   "metadata": {},
   "outputs": [],
   "source": []
  }
 ],
 "metadata": {
  "colab": {
   "provenance": []
  },
  "kernelspec": {
   "display_name": "Python 3 (ipykernel)",
   "language": "python",
   "name": "python3"
  },
  "language_info": {
   "codemirror_mode": {
    "name": "ipython",
    "version": 3
   },
   "file_extension": ".py",
   "mimetype": "text/x-python",
   "name": "python",
   "nbconvert_exporter": "python",
   "pygments_lexer": "ipython3",
   "version": "3.11.5"
  }
 },
 "nbformat": 4,
 "nbformat_minor": 5
}
